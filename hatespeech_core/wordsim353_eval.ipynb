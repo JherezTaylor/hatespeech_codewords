{
 "cells": [
  {
   "cell_type": "markdown",
   "metadata": {},
   "source": [
    "# Word Pair Evaluation\n",
    "\n",
    "\n",
    "This is a staging notebook for evaluating the embdeddings produced by dependency2vec using the original wordsim353 dataset.\n",
    "\n",
    "See issue [#90](https://github.com/JherezTaylor/thesis-preprocessing/issues/90)"
   ]
  },
  {
   "cell_type": "code",
   "execution_count": 1,
   "metadata": {
    "collapsed": true
   },
   "outputs": [],
   "source": [
    "from modules.utils import file_ops\n",
    "import pprint\n",
    "from modules.utils import settings\n",
    "import pandas as pd\n",
    "from nltk.corpus import wordnet as wn\n",
    "from tqdm import tqdm\n",
    "import plotly as py\n",
    "import plotly.graph_objs as go"
   ]
  },
  {
   "cell_type": "markdown",
   "metadata": {},
   "source": [
    "### Load Sim353 dataset"
   ]
  },
  {
   "cell_type": "code",
   "execution_count": 2,
   "metadata": {},
   "outputs": [
    {
     "data": {
      "text/html": [
       "<div>\n",
       "<style>\n",
       "    .dataframe thead tr:only-child th {\n",
       "        text-align: right;\n",
       "    }\n",
       "\n",
       "    .dataframe thead th {\n",
       "        text-align: left;\n",
       "    }\n",
       "\n",
       "    .dataframe tbody tr th {\n",
       "        vertical-align: top;\n",
       "    }\n",
       "</style>\n",
       "<table border=\"1\" class=\"dataframe\">\n",
       "  <thead>\n",
       "    <tr style=\"text-align: right;\">\n",
       "      <th></th>\n",
       "      <th>Word 1</th>\n",
       "      <th>Word 2</th>\n",
       "      <th>Human (mean)</th>\n",
       "      <th>1</th>\n",
       "      <th>2</th>\n",
       "      <th>3</th>\n",
       "      <th>4</th>\n",
       "      <th>5</th>\n",
       "      <th>6</th>\n",
       "      <th>7</th>\n",
       "      <th>8</th>\n",
       "      <th>9</th>\n",
       "      <th>10</th>\n",
       "      <th>11</th>\n",
       "      <th>12</th>\n",
       "      <th>13</th>\n",
       "    </tr>\n",
       "  </thead>\n",
       "  <tbody>\n",
       "    <tr>\n",
       "      <th>0</th>\n",
       "      <td>love</td>\n",
       "      <td>sex</td>\n",
       "      <td>6.77</td>\n",
       "      <td>9.0</td>\n",
       "      <td>6.0</td>\n",
       "      <td>8.0</td>\n",
       "      <td>8</td>\n",
       "      <td>7</td>\n",
       "      <td>8</td>\n",
       "      <td>8.0</td>\n",
       "      <td>4</td>\n",
       "      <td>7.0</td>\n",
       "      <td>2</td>\n",
       "      <td>6.0</td>\n",
       "      <td>7</td>\n",
       "      <td>8</td>\n",
       "    </tr>\n",
       "    <tr>\n",
       "      <th>1</th>\n",
       "      <td>tiger</td>\n",
       "      <td>cat</td>\n",
       "      <td>7.35</td>\n",
       "      <td>9.0</td>\n",
       "      <td>7.0</td>\n",
       "      <td>8.0</td>\n",
       "      <td>7</td>\n",
       "      <td>8</td>\n",
       "      <td>9</td>\n",
       "      <td>8.5</td>\n",
       "      <td>5</td>\n",
       "      <td>6.0</td>\n",
       "      <td>9</td>\n",
       "      <td>7.0</td>\n",
       "      <td>5</td>\n",
       "      <td>7</td>\n",
       "    </tr>\n",
       "    <tr>\n",
       "      <th>2</th>\n",
       "      <td>tiger</td>\n",
       "      <td>tiger</td>\n",
       "      <td>10.00</td>\n",
       "      <td>10.0</td>\n",
       "      <td>10.0</td>\n",
       "      <td>10.0</td>\n",
       "      <td>10</td>\n",
       "      <td>10</td>\n",
       "      <td>10</td>\n",
       "      <td>10.0</td>\n",
       "      <td>10</td>\n",
       "      <td>10.0</td>\n",
       "      <td>10</td>\n",
       "      <td>10.0</td>\n",
       "      <td>10</td>\n",
       "      <td>10</td>\n",
       "    </tr>\n",
       "    <tr>\n",
       "      <th>3</th>\n",
       "      <td>book</td>\n",
       "      <td>paper</td>\n",
       "      <td>7.46</td>\n",
       "      <td>8.0</td>\n",
       "      <td>8.0</td>\n",
       "      <td>7.0</td>\n",
       "      <td>7</td>\n",
       "      <td>8</td>\n",
       "      <td>9</td>\n",
       "      <td>7.0</td>\n",
       "      <td>6</td>\n",
       "      <td>7.0</td>\n",
       "      <td>8</td>\n",
       "      <td>9.0</td>\n",
       "      <td>4</td>\n",
       "      <td>9</td>\n",
       "    </tr>\n",
       "    <tr>\n",
       "      <th>4</th>\n",
       "      <td>computer</td>\n",
       "      <td>keyboard</td>\n",
       "      <td>7.62</td>\n",
       "      <td>8.0</td>\n",
       "      <td>7.0</td>\n",
       "      <td>9.0</td>\n",
       "      <td>9</td>\n",
       "      <td>8</td>\n",
       "      <td>8</td>\n",
       "      <td>7.0</td>\n",
       "      <td>7</td>\n",
       "      <td>6.0</td>\n",
       "      <td>8</td>\n",
       "      <td>10.0</td>\n",
       "      <td>3</td>\n",
       "      <td>9</td>\n",
       "    </tr>\n",
       "  </tbody>\n",
       "</table>\n",
       "</div>"
      ],
      "text/plain": [
       "     Word 1    Word 2  Human (mean)     1     2     3   4   5   6     7   8  \\\n",
       "0      love       sex          6.77   9.0   6.0   8.0   8   7   8   8.0   4   \n",
       "1     tiger       cat          7.35   9.0   7.0   8.0   7   8   9   8.5   5   \n",
       "2     tiger     tiger         10.00  10.0  10.0  10.0  10  10  10  10.0  10   \n",
       "3      book     paper          7.46   8.0   8.0   7.0   7   8   9   7.0   6   \n",
       "4  computer  keyboard          7.62   8.0   7.0   9.0   9   8   8   7.0   7   \n",
       "\n",
       "      9  10    11  12  13  \n",
       "0   7.0   2   6.0   7   8  \n",
       "1   6.0   9   7.0   5   7  \n",
       "2  10.0  10  10.0  10  10  \n",
       "3   7.0   8   9.0   4   9  \n",
       "4   6.0   8  10.0   3   9  "
      ]
     },
     "execution_count": 2,
     "metadata": {},
     "output_type": "execute_result"
    }
   ],
   "source": [
    "wordsim353 = settings.DATASET_PATH + 'wordsim353_original/set1.csv'\n",
    "df = pd.read_csv(wordsim353)\n",
    "df.head()"
   ]
  },
  {
   "cell_type": "markdown",
   "metadata": {},
   "source": [
    "# Sim353 Evaluation"
   ]
  },
  {
   "cell_type": "code",
   "execution_count": 3,
   "metadata": {
    "collapsed": true
   },
   "outputs": [],
   "source": [
    "# temp = wn.synsets('sex')\n",
    "# print(temp)\n",
    "# temp[0].definition()"
   ]
  },
  {
   "cell_type": "code",
   "execution_count": 4,
   "metadata": {
    "collapsed": true
   },
   "outputs": [],
   "source": [
    "crane = 'crane.n.04'\n",
    "implement = 'implement.n.01'\n",
    "lad = 'chap.n.01'\n",
    "brother = 'brother.n.01'\n",
    "monk = 'monk.n.01'\n",
    "oracle = 'prophet.n.01'\n",
    "holy = 'holy.a.01'\n",
    "sex = 'sexual_activity.n.01'\n",
    "fuck = 'fuck.n.01'\n",
    "movie = 'movie.n.01'\n",
    "popcorn = 'popcorn.n.01'\n",
    "word_pairs = [crane, implement, lad, brother, monk, oracle, holy, sex, fuck, sex, movie, popcorn]"
   ]
  },
  {
   "cell_type": "code",
   "execution_count": 5,
   "metadata": {
    "collapsed": true
   },
   "outputs": [],
   "source": [
    "def get_distance(word1, word2):\n",
    "    w1 = wn.synset(word1)\n",
    "    w2 = wn.synset(word2)\n",
    "    return (word1, word2), w1.wup_similarity(w2)"
   ]
  },
  {
   "cell_type": "code",
   "execution_count": 6,
   "metadata": {
    "collapsed": true
   },
   "outputs": [],
   "source": [
    "# print(get_distance(word_pairs[0], word_pairs[1]))\n",
    "# print(get_distance(word_pairs[2], word_pairs[3]))\n",
    "# print(get_distance(word_pairs[4], word_pairs[5]))\n",
    "# print(get_distance(word_pairs[6], word_pairs[7]))\n",
    "# print(get_distance(word_pairs[7], word_pairs[8]))\n",
    "# print(get_distance(word_pairs[10], word_pairs[11]))"
   ]
  },
  {
   "cell_type": "raw",
   "metadata": {},
   "source": [
    "(('crane.n.04', 'implement.n.01'), 0.75) [2.96]\n",
    "(('chap.n.01', 'brother.n.01'), 0.6) [4.46]\n",
    "(('monk.n.01', 'prophet.n.01'), 0.5714285714285714) [5]\n",
    "(('holy.a.01', 'sexual_activity.n.01'), None) \n",
    "(('sexual_activity.n.01', 'fuck.n.01'), 0.8571428571428571) [9.44]\n",
    "(('movie.n.01', 'popcorn.n.01'), 0.36363636363636365) [6.19]"
   ]
  }
 ],
 "metadata": {
  "kernelspec": {
   "display_name": "Python 3",
   "language": "python",
   "name": "python3"
  },
  "language_info": {
   "codemirror_mode": {
    "name": "ipython",
    "version": 3
   },
   "file_extension": ".py",
   "mimetype": "text/x-python",
   "name": "python",
   "nbconvert_exporter": "python",
   "pygments_lexer": "ipython3",
   "version": "3.5.3"
  }
 },
 "nbformat": 4,
 "nbformat_minor": 2
}
