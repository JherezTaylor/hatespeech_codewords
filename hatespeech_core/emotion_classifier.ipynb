{
 "cells": [
  {
   "cell_type": "markdown",
   "metadata": {},
   "source": [
    "# Basic Example using patterns classifier"
   ]
  },
  {
   "cell_type": "code",
   "execution_count": 1,
   "metadata": {},
   "outputs": [],
   "source": [
    "import pandas as pd\n",
    "import numpy as np\n",
    "import sklearn.metrics\n",
    "from modules.utils import settings\n",
    "from sklearn import preprocessing\n",
    "import joblib\n",
    "from modules.pattern_classifier import  SimpleClassifier, PatternVectorizer"
   ]
  },
  {
   "cell_type": "code",
   "execution_count": 2,
   "metadata": {
    "collapsed": true
   },
   "outputs": [],
   "source": [
    "# Load annotated tweets\n",
    "col = [\"text\", \"emo1\", \"emo2\", \"emo3\"]\n",
    "filename = 'data/datasets/annotated_tweets.tsv'\n",
    "tweets = pd.read_table(filename, header=None, names=col)"
   ]
  },
  {
   "cell_type": "markdown",
   "metadata": {},
   "source": [
    "## 1. Load Vectorizer and Classifier Instance\n",
    "\n",
    "Load a PatternVectorizer pv and SimpleClassifier cls instances from a folder containing files for each classes with pattern and corresponding score."
   ]
  },
  {
   "cell_type": "code",
   "execution_count": 3,
   "metadata": {},
   "outputs": [],
   "source": [
    "emo_pv, emo_clf = SimpleClassifier.load_from_folder('data/datasets/emotion_patterns/8_emos/')"
   ]
  },
  {
   "cell_type": "markdown",
   "metadata": {},
   "source": [
    "## Optional: Persist Classifier Instance to disk"
   ]
  },
  {
   "cell_type": "code",
   "execution_count": 4,
   "metadata": {},
   "outputs": [],
   "source": [
    "joblib.dump(emo_clf, settings.EMO_CLF, compress=True)\n",
    "joblib.dump(emo_pv, settings.EMO_PV, compress=True)\n",
    "new_clf = joblib.load(settings.EMO_CLF)\n",
    "new_pv = joblib.load(settings.EMO_PV)\n",
    "# You can load the models here, comment the dumps and change the variable names from cls and pv to new_cls\n",
    "# and new_pv respectively"
   ]
  },
  {
   "cell_type": "markdown",
   "metadata": {},
   "source": [
    "## 2. Vectorize the tweets\n",
    "\n",
    "[tweet1, tweet2 ...] -> [[O11, O12, ...], [O21, O22, ...] ...]\n",
    "Oij represent the number of occurence of the jth pattern in the ith tweet."
   ]
  },
  {
   "cell_type": "code",
   "execution_count": 5,
   "metadata": {},
   "outputs": [
    {
     "data": {
      "text/plain": [
       "array([[3, 2, 0, ..., 0, 0, 0],\n",
       "       [4, 0, 1, ..., 0, 0, 0],\n",
       "       [1, 1, 0, ..., 0, 0, 0],\n",
       "       [2, 0, 1, ..., 0, 0, 0],\n",
       "       [1, 0, 1, ..., 0, 0, 0]], dtype=int32)"
      ]
     },
     "execution_count": 5,
     "metadata": {},
     "output_type": "execute_result"
    }
   ],
   "source": [
    "documentPatternVectors = new_pv.transform(tweets.text)\n",
    "documentPatternVectors[:5]"
   ]
  },
  {
   "cell_type": "markdown",
   "metadata": {},
   "source": [
    "## 3. Classify tweets"
   ]
  },
  {
   "cell_type": "code",
   "execution_count": 6,
   "metadata": {},
   "outputs": [
    {
     "data": {
      "text/plain": [
       "['anticipation', 'trust', 'trust', 'anticipation', 'anticipation']"
      ]
     },
     "execution_count": 6,
     "metadata": {},
     "output_type": "execute_result"
    }
   ],
   "source": [
    "# using one emotion, guess the one with the smallest rank\n",
    "Y_GUESS_1 = new_clf.get_min_score_class(documentPatternVectors)\n",
    "Y_GUESS_1[:5]"
   ]
  },
  {
   "cell_type": "code",
   "execution_count": 7,
   "metadata": {},
   "outputs": [
    {
     "data": {
      "text/plain": [
       "[['anticipation', 'trust'],\n",
       " ['trust', 'joy'],\n",
       " ['trust', 'anticipation'],\n",
       " ['anticipation', 'joy'],\n",
       " ['anticipation', 'joy']]"
      ]
     },
     "execution_count": 7,
     "metadata": {},
     "output_type": "execute_result"
    }
   ],
   "source": [
    "# using two emotion, guess the one with the smallest rank\n",
    "Y_GUESS_2 = new_clf.get_top_classes(documentPatternVectors, ascending=True, n=2)\n",
    "Y_GUESS_2[:5]"
   ]
  },
  {
   "cell_type": "markdown",
   "metadata": {},
   "source": [
    "## 4. Evaluate your model"
   ]
  },
  {
   "cell_type": "code",
   "execution_count": 9,
   "metadata": {},
   "outputs": [
    {
     "data": {
      "text/plain": [
       "LabelEncoder()"
      ]
     },
     "execution_count": 9,
     "metadata": {},
     "output_type": "execute_result"
    }
   ],
   "source": [
    "le = preprocessing.LabelEncoder()\n",
    "le.fit(new_clf.classes)"
   ]
  },
  {
   "cell_type": "code",
   "execution_count": 10,
   "metadata": {
    "collapsed": true
   },
   "outputs": [],
   "source": [
    "Y = le.transform(tweets.emo1.values.tolist())\n",
    "Y_GUESS_1 = le.transform(Y_GUESS_1)"
   ]
  },
  {
   "cell_type": "code",
   "execution_count": 11,
   "metadata": {},
   "outputs": [
    {
     "name": "stdout",
     "output_type": "stream",
     "text": [
      "              precision    recall  f1-score   support\n",
      "\n",
      "       anger       0.24      0.28      0.26       107\n",
      "anticipation       0.27      0.40      0.32       272\n",
      "     disgust       0.25      0.09      0.13       183\n",
      "        fear       0.13      0.26      0.18        87\n",
      "         joy       0.59      0.24      0.34       456\n",
      "     sadness       0.44      0.15      0.23       165\n",
      "    surprise       0.14      0.46      0.22       125\n",
      "       trust       0.25      0.25      0.25       102\n",
      "\n",
      " avg / total       0.36      0.26      0.27      1497\n",
      "\n",
      "Accuracy:\n",
      "0.2625250501\n"
     ]
    }
   ],
   "source": [
    "print(sklearn.metrics.classification_report(Y, Y_GUESS_1, target_names = le.classes_))\n",
    "print('Accuracy:')\n",
    "print(sklearn.metrics.accuracy_score(Y, Y_GUESS_1))"
   ]
  },
  {
   "cell_type": "code",
   "execution_count": 12,
   "metadata": {},
   "outputs": [
    {
     "data": {
      "text/plain": [
       "0.2592963705188151"
      ]
     },
     "execution_count": 12,
     "metadata": {},
     "output_type": "execute_result"
    }
   ],
   "source": [
    "# Average Jacqard similarity of the two guess with the 2 label\n",
    "tweets = tweets.fillna('None')\n",
    "tweets['emotions'] = tweets.apply(lambda t: set((t.emo1 , t.emo2, t.emo3)) - {'None'}, axis=1)\n",
    "nb_tweets = len(tweets.emotions.values)\n",
    "sum([len(tweets.emotions[i] & set(Y_GUESS_2[i])) / len(tweets.emotions[i] | set(Y_GUESS_2[i])) for i in range(nb_tweets)]) / nb_tweets"
   ]
  },
  {
   "cell_type": "code",
   "execution_count": 13,
   "metadata": {},
   "outputs": [
    {
     "data": {
      "text/plain": [
       "0.42752171008684037"
      ]
     },
     "execution_count": 13,
     "metadata": {},
     "output_type": "execute_result"
    }
   ],
   "source": [
    "# Guess 2 accuracy\n",
    "sum([tweets.emo1[i] in set(Y_GUESS_2[i]) for i in range(nb_tweets)]) / nb_tweets"
   ]
  },
  {
   "cell_type": "code",
   "execution_count": 14,
   "metadata": {},
   "outputs": [
    {
     "data": {
      "text/plain": [
       "0.5784903139612558"
      ]
     },
     "execution_count": 14,
     "metadata": {},
     "output_type": "execute_result"
    }
   ],
   "source": [
    "# Accuracy conting positive if there is an intersection between the two guess and the labels\n",
    "sum([len(tweets.emotions[i] & set(Y_GUESS_2[i])) > 0 for i in range(nb_tweets)]) / nb_tweets"
   ]
  }
 ],
 "metadata": {
  "kernelspec": {
   "display_name": "Python 3",
   "language": "python",
   "name": "python3"
  },
  "language_info": {
   "codemirror_mode": {
    "name": "ipython",
    "version": 3
   },
   "file_extension": ".py",
   "mimetype": "text/x-python",
   "name": "python",
   "nbconvert_exporter": "python",
   "pygments_lexer": "ipython3",
   "version": "3.5.3"
  }
 },
 "nbformat": 4,
 "nbformat_minor": 2
}
