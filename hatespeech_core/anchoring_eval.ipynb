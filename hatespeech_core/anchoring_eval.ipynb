{
 "cells": [
  {
   "cell_type": "markdown",
   "metadata": {},
   "source": [
    "# Context Anchoring Model\n",
    "\n",
    "\n",
    "This is a staging notebook for exploring the use of context and word anchoring anchoring approach.\n",
    "\n",
    "See issue [#91](https://github.com/JherezTaylor/thesis-preprocessing/issues/91) and [#93](https://github.com/JherezTaylor/thesis-preprocessing/issues/93)"
   ]
  },
  {
   "cell_type": "code",
   "execution_count": 1,
   "metadata": {
    "collapsed": true
   },
   "outputs": [],
   "source": [
    "from modules.utils import file_ops\n",
    "import pprint\n",
    "from modules.utils import settings\n",
    "from modules.db import elasticsearch\n",
    "import pandas as pd\n",
    "from elasticsearch import Elasticsearch\n",
    "import spacy\n",
    "from nltk.corpus import wordnet as wn\n",
    "from nltk.sentiment.vader import SentimentIntensityAnalyzer as SIA\n",
    "from tqdm import tqdm\n",
    "import plotly as py\n",
    "import plotly.graph_objs as go\n",
    "from modules.utils.CustomTwokenizer import CustomTwokenizer"
   ]
  },
  {
   "cell_type": "markdown",
   "metadata": {},
   "source": [
    "## Sentence Anchoring"
   ]
  },
  {
   "cell_type": "markdown",
   "metadata": {},
   "source": [
    "### Example tweets"
   ]
  },
  {
   "cell_type": "code",
   "execution_count": 5,
   "metadata": {},
   "outputs": [
    {
     "name": "stdout",
     "output_type": "stream",
     "text": [
      "Tweet 0: user_mention I hope you get raped in jail\n",
      "Tweet 1: My faggot ass manager showed his colors again today son\n",
      "Tweet 2: #WhiteGenocide wake the fuck up people these fucking barbaric niggers , radical goat fuckers , and wetbacks are taking over your country\n"
     ]
    }
   ],
   "source": [
    "tweet_samples = ['user_mention I hope you get raped in jail', 'My faggot ass manager showed his colors again today son', '#WhiteGenocide wake the fuck up people these fucking barbaric niggers , radical goat fuckers , and wetbacks are taking over your country']\n",
    "for idx,twt in enumerate(tweet_samples):\n",
    "    print(\"Tweet \" + str(idx)+ \": \" + twt)"
   ]
  },
  {
   "cell_type": "markdown",
   "metadata": {},
   "source": [
    "### Init Elasticsearch and VADER Sentiment Analyzer"
   ]
  },
  {
   "cell_type": "code",
   "execution_count": 6,
   "metadata": {
    "collapsed": true
   },
   "outputs": [],
   "source": [
    "es_index = 'candidates_crowdflower_analysis'\n",
    "es = Elasticsearch([\n",
    "    {'host': '140.114.79.146', 'port': 9200},\n",
    "])\n",
    "if not es.ping():\n",
    "    raise ValueError(\"Connection failed\")\n",
    "\n",
    "sent_analyzer = SIA()"
   ]
  },
  {
   "cell_type": "markdown",
   "metadata": {},
   "source": [
    "### Setup Elasticsearch queries"
   ]
  },
  {
   "cell_type": "code",
   "execution_count": 18,
   "metadata": {
    "collapsed": true
   },
   "outputs": [],
   "source": [
    "queries = []\n",
    "for tweet in tweet_samples:\n",
    "    query = {\n",
    "        \"stored_fields\" : [\"text\"],\n",
    "        \"query\": {\n",
    "            \"more_like_this\" : {\n",
    "                \"fields\" : [\"text\"],\n",
    "                \"like\" : tweet,\n",
    "                \"min_term_freq\" : 1,\n",
    "                \"max_query_terms\" : 12\n",
    "            }\n",
    "        }\n",
    "    }\n",
    "    queries.append(query)"
   ]
  },
  {
   "cell_type": "markdown",
   "metadata": {},
   "source": [
    "### Get similar queries"
   ]
  },
  {
   "cell_type": "code",
   "execution_count": 34,
   "metadata": {
    "collapsed": true
   },
   "outputs": [],
   "source": [
    "similar_tweets = []\n",
    "for query in queries:\n",
    "    res = es.search(index=es_index, body=query)\n",
    "    similar_tweets.append([hit['fields']['text'][0] for hit in res['hits']['hits']])"
   ]
  },
  {
   "cell_type": "code",
   "execution_count": 35,
   "metadata": {},
   "outputs": [
    {
     "data": {
      "text/plain": [
       "['user_mention I hope you get raped in jail ',\n",
       " 'user_mention I hope you get raped in jail ',\n",
       " \"user_mention user_mention I hope Zoey doesn't get raped or killed !! #DontHurtJoey !! #LoveHer #Bayhem #Joey \",\n",
       " 'user_mention lol your child can still get raped . _\\x89ã¢\\x89Û__ hope u n ya mammie get raped too_\\x89ã¢\\x89Û_Ì_ fym ? You finna see .. ',\n",
       " 'user_mention user_mention get stage 7.666 cancer you nigger I hope you die in a head on collision in a car ',\n",
       " 'Yes I realize women get raped and all but there are more male homicide victims than women . Men usually serve longer time in jail ',\n",
       " 'user_mention Hahahahahahaha I hope seshes and that get put it in this you fucking queer ',\n",
       " 'user_mention user_mention user_mention imagine me saying \" proud & unafraid undocumented \" in Mexico , i prob would get raped b4 i get dported ',\n",
       " 'user_mention Sometimes I will add an emoji . I hope you and your mother get raped together , having to hear the other cry for help lol :) ',\n",
       " 'user_mention but yeah i hope you never experience rape but receive blessings although you want my future daughter to get raped :( ']"
      ]
     },
     "execution_count": 35,
     "metadata": {},
     "output_type": "execute_result"
    }
   ],
   "source": [
    "similar_tweets[0]"
   ]
  },
  {
   "cell_type": "markdown",
   "metadata": {},
   "source": [
    "### Calculate sentiment scores"
   ]
  },
  {
   "cell_type": "code",
   "execution_count": 12,
   "metadata": {},
   "outputs": [
    {
     "name": "stdout",
     "output_type": "stream",
     "text": [
      "[{'compound': -0.4019, 'neg': 0.368, 'neu': 0.4, 'pos': 0.232},\n",
      " {'compound': -0.4019, 'neg': 0.368, 'neu': 0.4, 'pos': 0.232},\n",
      " {'compound': 0.4993, 'neg': 0.186, 'neu': 0.495, 'pos': 0.319},\n",
      " {'compound': -0.6705, 'neg': 0.298, 'neu': 0.518, 'pos': 0.184},\n",
      " {'compound': -0.9217, 'neg': 0.503, 'neu': 0.4, 'pos': 0.097},\n",
      " {'compound': -0.648, 'neg': 0.22, 'neu': 0.714, 'pos': 0.066},\n",
      " {'compound': 0.4404, 'neg': 0.0, 'neu': 0.818, 'pos': 0.182},\n",
      " {'compound': -0.3612, 'neg': 0.194, 'neu': 0.675, 'pos': 0.131},\n",
      " {'compound': 0.4019, 'neg': 0.208, 'neu': 0.485, 'pos': 0.307},\n",
      " {'compound': 0.7722, 'neg': 0.243, 'neu': 0.332, 'pos': 0.425}]\n"
     ]
    }
   ],
   "source": [
    "sentiment_scores = []\n",
    "for tweets in similar_tweets:\n",
    "    sentiment_scores.append([sent_analyzer.polarity_scores(twt) for twt in tweets])\n",
    "pprint.pprint(sentiment_scores[0])"
   ]
  },
  {
   "cell_type": "markdown",
   "metadata": {},
   "source": [
    "### Bin tweets by compound score [Postive, Negative, Neutral]"
   ]
  },
  {
   "cell_type": "code",
   "execution_count": 13,
   "metadata": {},
   "outputs": [
    {
     "data": {
      "text/plain": [
       "{'compound': -0.4019, 'label': 'NEU', 'neg': 0.368, 'neu': 0.4, 'pos': 0.232}"
      ]
     },
     "execution_count": 13,
     "metadata": {},
     "output_type": "execute_result"
    }
   ],
   "source": [
    "for idx, tweet_set in enumerate(sentiment_scores):\n",
    "    for idx_y, tweet in enumerate(tweet_set):\n",
    "        if tweet['compound'] >= 0.5:\n",
    "            label = 'POS'\n",
    "        elif tweet['compound'] > -0.5 and tweet['compound'] < 0.5:\n",
    "            label = 'NEU'\n",
    "        else:\n",
    "            label = 'NEG'\n",
    "        sentiment_scores[idx][idx_y]['label'] = label\n",
    "\n",
    "sentiment_scores[0][1]"
   ]
  },
  {
   "cell_type": "markdown",
   "metadata": {},
   "source": [
    "### Calculate features"
   ]
  },
  {
   "cell_type": "code",
   "execution_count": 14,
   "metadata": {},
   "outputs": [
    {
     "data": {
      "text/plain": [
       "[<generator object <genexpr> at 0x7f9df855edb0>,\n",
       " <generator object <genexpr> at 0x7f9df855ed58>,\n",
       " <generator object <genexpr> at 0x7f9df8532360>]"
      ]
     },
     "execution_count": 14,
     "metadata": {},
     "output_type": "execute_result"
    }
   ],
   "source": [
    "positive_summation = []\n",
    "for tweet_set in sentiment_scores:\n",
    "    positive_summation.append(sum(twt['pos']) for twt in tweet_set)\n",
    "\n",
    "positive_summation"
   ]
  }
 ],
 "metadata": {
  "kernelspec": {
   "display_name": "Python 3",
   "language": "python",
   "name": "python3"
  },
  "language_info": {
   "codemirror_mode": {
    "name": "ipython",
    "version": 3
   },
   "file_extension": ".py",
   "mimetype": "text/x-python",
   "name": "python",
   "nbconvert_exporter": "python",
   "pygments_lexer": "ipython3",
   "version": "3.5.3"
  }
 },
 "nbformat": 4,
 "nbformat_minor": 2
}
