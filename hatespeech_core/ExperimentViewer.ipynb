{
 "cells": [
  {
   "cell_type": "code",
   "execution_count": 49,
   "metadata": {
    "collapsed": false,
    "deletable": true,
    "editable": true
   },
   "outputs": [],
   "source": [
    "import pandas as pd\n",
    "import spacy\n",
    "import joblib\n",
    "import plotly as py\n",
    "import cufflinks as cf\n",
    "import plotly.graph_objs as go\n",
    "from modules.utils import file_ops\n",
    "from modules.utils import EmotionDetection\n",
    "from modules.utils import settings\n",
    "from modules.pattern_classifier import SimpleClassifier, PatternVectorizer"
   ]
  },
  {
   "cell_type": "markdown",
   "metadata": {},
   "source": [
    "## Load Pipelines"
   ]
  },
  {
   "cell_type": "code",
   "execution_count": null,
   "metadata": {
    "collapsed": true
   },
   "outputs": [],
   "source": [
    "emotion_api = EmotionDetection.EmotionDetection()\n",
    "py.offline.init_notebook_mode(connected=True)\n",
    "cf.go_offline()\n",
    "nlp = spacy.load('en')"
   ]
  },
  {
   "cell_type": "markdown",
   "metadata": {},
   "source": [
    "## Load Persisted models"
   ]
  },
  {
   "cell_type": "code",
   "execution_count": 11,
   "metadata": {
    "collapsed": false
   },
   "outputs": [],
   "source": [
    "cls_persistence = 'data/persistence/simple_classifier_model.pkl.compressed'\n",
    "pv_persistence = 'data/persistence/pattern_vectorizer.pkl.compressed'\n",
    "cls = joblib.load(cls_persistence)\n",
    "pv = joblib.load(pv_persistence)"
   ]
  },
  {
   "cell_type": "markdown",
   "metadata": {},
   "source": [
    "## Load CrowdFlower dataset"
   ]
  },
  {
   "cell_type": "code",
   "execution_count": 15,
   "metadata": {
    "collapsed": false,
    "deletable": true,
    "editable": true
   },
   "outputs": [
    {
     "data": {
      "text/plain": [
       "(2399, 6)"
      ]
     },
     "execution_count": 15,
     "metadata": {},
     "output_type": "execute_result"
    }
   ],
   "source": [
    "df = pd.read_csv('data/datasets/twitter-hate-speech-classifier.csv', encoding='utf-8')\n",
    "contains_hatespeech = df.loc[df['does_this_tweet_contain_hate_speech'] == 'The tweet contains hate speech']\n",
    "contains_hatespeech = contains_hatespeech[['_unit_id', '_unit_state', '_trusted_judgments', 'does_this_tweet_contain_hate_speech:confidence', 'tweet_id', 'tweet_text']]\n",
    "contains_hatespeech.shape"
   ]
  },
  {
   "cell_type": "code",
   "execution_count": 12,
   "metadata": {
    "collapsed": false,
    "deletable": true,
    "editable": true
   },
   "outputs": [],
   "source": [
    "# Plot trusted judgements against confidence\n",
    "# data = [\n",
    "#     go.Scatter(\n",
    "#         x=contains_hatespeech['_trusted_judgments'], # assign x as the dataframe column 'x'\n",
    "#         y=contains_hatespeech['does_this_tweet_contain_hate_speech:confidence']\n",
    "#     )\n",
    "# ]\n",
    "\n",
    "# layout = go.Layout(\n",
    "#     title='Confidence vs Trusted Judgments',\n",
    "#     yaxis=dict(title='confidence level'),\n",
    "#     xaxis=dict(title='# trusted judgments')\n",
    "# )\n",
    "# fig = go.Figure(data=data, layout=layout)\n",
    "# py.offline.iplot(fig)\n",
    "# test.iplot(kind='histogram')\n",
    "# result[\"ambiguous\"]"
   ]
  },
  {
   "cell_type": "markdown",
   "metadata": {},
   "source": [
    "## Vectorize and classify tweets"
   ]
  },
  {
   "cell_type": "code",
   "execution_count": 36,
   "metadata": {
    "collapsed": false
   },
   "outputs": [
    {
     "data": {
      "text/plain": [
       "array([[0, 0, 0, ..., 0, 0, 0],\n",
       "       [0, 0, 0, ..., 0, 0, 0],\n",
       "       [0, 0, 0, ..., 0, 0, 0],\n",
       "       [0, 2, 0, ..., 0, 0, 0],\n",
       "       [0, 0, 0, ..., 0, 0, 0]], dtype=int32)"
      ]
     },
     "execution_count": 36,
     "metadata": {},
     "output_type": "execute_result"
    }
   ],
   "source": [
    "hatespeech_subsample = contains_hatespeech[['tweet_text']][0:20]\n",
    "hatespeech_vec = pv.transform(hatespeech_subsample['tweet_text'])\n",
    "hatespeech_vec[:5]"
   ]
  },
  {
   "cell_type": "code",
   "execution_count": 90,
   "metadata": {
    "collapsed": false
   },
   "outputs": [
    {
     "data": {
      "text/html": [
       "<div>\n",
       "<table border=\"1\" class=\"dataframe\">\n",
       "  <thead>\n",
       "    <tr style=\"text-align: right;\">\n",
       "      <th></th>\n",
       "      <th>text</th>\n",
       "      <th>emotions</th>\n",
       "    </tr>\n",
       "  </thead>\n",
       "  <tbody>\n",
       "    <tr>\n",
       "      <th>0</th>\n",
       "      <td>Fuck dykes</td>\n",
       "      <td>[disgust, anticipation, joy]</td>\n",
       "    </tr>\n",
       "    <tr>\n",
       "      <th>1</th>\n",
       "      <td>@sizzurp__ @ILIKECATS74 @yoPapi_chulo @brandon...</td>\n",
       "      <td>[fear, sadness, surprise]</td>\n",
       "    </tr>\n",
       "    <tr>\n",
       "      <th>2</th>\n",
       "      <td>\"@jayswaggkillah: \"@JacklynAnnn: @jayswaggkill...</td>\n",
       "      <td>[anticipation, surprise, joy]</td>\n",
       "    </tr>\n",
       "    <tr>\n",
       "      <th>3</th>\n",
       "      <td>@elaynay your a dirty terrorist and your relig...</td>\n",
       "      <td>[anger, surprise, fear]</td>\n",
       "    </tr>\n",
       "    <tr>\n",
       "      <th>4</th>\n",
       "      <td>RT @ivanrabago_: @_WhitePonyJr_ looking like f...</td>\n",
       "      <td>[fear, joy, surprise]</td>\n",
       "    </tr>\n",
       "    <tr>\n",
       "      <th>5</th>\n",
       "      <td>Well I thought you knew actually RT @KingHorse...</td>\n",
       "      <td>[surprise, anger, trust]</td>\n",
       "    </tr>\n",
       "    <tr>\n",
       "      <th>6</th>\n",
       "      <td>#VoteBlue2014 Yeah. CUZ 8 million people in fa...</td>\n",
       "      <td>[surprise, anger, joy]</td>\n",
       "    </tr>\n",
       "    <tr>\n",
       "      <th>7</th>\n",
       "      <td>@AndreBerto word is you use roids, stupid hypo...</td>\n",
       "      <td>[trust, anger, surprise]</td>\n",
       "    </tr>\n",
       "    <tr>\n",
       "      <th>8</th>\n",
       "      <td>I hate faggots like you</td>\n",
       "      <td>[anger, surprise, sadness]</td>\n",
       "    </tr>\n",
       "    <tr>\n",
       "      <th>9</th>\n",
       "      <td>@MoriTaheripour shut up nigger whore! Hope u g...</td>\n",
       "      <td>[anger, trust, sadness]</td>\n",
       "    </tr>\n",
       "    <tr>\n",
       "      <th>10</th>\n",
       "      <td>@Oprah @3LWTV Fuck you nigger sheboon. Hope yo...</td>\n",
       "      <td>[anticipation, disgust, anger]</td>\n",
       "    </tr>\n",
       "    <tr>\n",
       "      <th>11</th>\n",
       "      <td>They used to tie both ends of a niggers legs t...</td>\n",
       "      <td>[surprise, sadness, fear]</td>\n",
       "    </tr>\n",
       "    <tr>\n",
       "      <th>12</th>\n",
       "      <td>Good night fags and fagettes (that's the femal...</td>\n",
       "      <td>[anticipation, surprise, disgust]</td>\n",
       "    </tr>\n",
       "    <tr>\n",
       "      <th>13</th>\n",
       "      <td>RT @nerdkiller669: @ShinSnipes no you're a nigger</td>\n",
       "      <td>[surprise, disgust, anticipation]</td>\n",
       "    </tr>\n",
       "    <tr>\n",
       "      <th>14</th>\n",
       "      <td>@OxbloodStomper @PalePixie88 @SlaveCatcher88 w...</td>\n",
       "      <td>[disgust, anticipation, trust]</td>\n",
       "    </tr>\n",
       "    <tr>\n",
       "      <th>15</th>\n",
       "      <td>I fucking hate you niggers bruh... http://t.co...</td>\n",
       "      <td>[disgust, trust, anticipation]</td>\n",
       "    </tr>\n",
       "    <tr>\n",
       "      <th>16</th>\n",
       "      <td>RT @opticzodiac: @JerKzTheGreaT @Erupts @BajaO...</td>\n",
       "      <td>[anger, fear, surprise]</td>\n",
       "    </tr>\n",
       "    <tr>\n",
       "      <th>17</th>\n",
       "      <td>Leak: 12 ISIS Terrorists \"Vetted\" &amp;amp; Let in...</td>\n",
       "      <td>[joy, sadness, fear]</td>\n",
       "    </tr>\n",
       "    <tr>\n",
       "      <th>18</th>\n",
       "      <td>If TRUMP is recruiting fr IS he's actually doi...</td>\n",
       "      <td>[anticipation, surprise, anger]</td>\n",
       "    </tr>\n",
       "    <tr>\n",
       "      <th>19</th>\n",
       "      <td>@TheEricCarter @JaredWyand @cristinalaila1 YES...</td>\n",
       "      <td>[disgust, surprise, trust]</td>\n",
       "    </tr>\n",
       "  </tbody>\n",
       "</table>\n",
       "</div>"
      ],
      "text/plain": [
       "                                                 text  \\\n",
       "0                                          Fuck dykes   \n",
       "1   @sizzurp__ @ILIKECATS74 @yoPapi_chulo @brandon...   \n",
       "2   \"@jayswaggkillah: \"@JacklynAnnn: @jayswaggkill...   \n",
       "3   @elaynay your a dirty terrorist and your relig...   \n",
       "4   RT @ivanrabago_: @_WhitePonyJr_ looking like f...   \n",
       "5   Well I thought you knew actually RT @KingHorse...   \n",
       "6   #VoteBlue2014 Yeah. CUZ 8 million people in fa...   \n",
       "7   @AndreBerto word is you use roids, stupid hypo...   \n",
       "8                             I hate faggots like you   \n",
       "9   @MoriTaheripour shut up nigger whore! Hope u g...   \n",
       "10  @Oprah @3LWTV Fuck you nigger sheboon. Hope yo...   \n",
       "11  They used to tie both ends of a niggers legs t...   \n",
       "12  Good night fags and fagettes (that's the femal...   \n",
       "13  RT @nerdkiller669: @ShinSnipes no you're a nigger   \n",
       "14  @OxbloodStomper @PalePixie88 @SlaveCatcher88 w...   \n",
       "15  I fucking hate you niggers bruh... http://t.co...   \n",
       "16  RT @opticzodiac: @JerKzTheGreaT @Erupts @BajaO...   \n",
       "17  Leak: 12 ISIS Terrorists \"Vetted\" &amp; Let in...   \n",
       "18  If TRUMP is recruiting fr IS he's actually doi...   \n",
       "19  @TheEricCarter @JaredWyand @cristinalaila1 YES...   \n",
       "\n",
       "                             emotions  \n",
       "0        [disgust, anticipation, joy]  \n",
       "1           [fear, sadness, surprise]  \n",
       "2       [anticipation, surprise, joy]  \n",
       "3             [anger, surprise, fear]  \n",
       "4               [fear, joy, surprise]  \n",
       "5            [surprise, anger, trust]  \n",
       "6              [surprise, anger, joy]  \n",
       "7            [trust, anger, surprise]  \n",
       "8          [anger, surprise, sadness]  \n",
       "9             [anger, trust, sadness]  \n",
       "10     [anticipation, disgust, anger]  \n",
       "11          [surprise, sadness, fear]  \n",
       "12  [anticipation, surprise, disgust]  \n",
       "13  [surprise, disgust, anticipation]  \n",
       "14     [disgust, anticipation, trust]  \n",
       "15     [disgust, trust, anticipation]  \n",
       "16            [anger, fear, surprise]  \n",
       "17               [joy, sadness, fear]  \n",
       "18    [anticipation, surprise, anger]  \n",
       "19         [disgust, surprise, trust]  "
      ]
     },
     "execution_count": 90,
     "metadata": {},
     "output_type": "execute_result"
    }
   ],
   "source": [
    "# Can return up to 8 emotions\n",
    "result = []\n",
    "HS_GUESS = cls.get_top_classes(hatespeech_vec, ascending=True, n=3)\n",
    "for doc in range(0,len(hatespeech_subsample)):\n",
    "    result.append((hatespeech_subsample['tweet_text'].iloc[doc], HS_GUESS[doc]))\n",
    "\n",
    "result_frame = pd.DataFrame(result, columns=('text', 'emotions'))\n",
    "result_frame"
   ]
  },
  {
   "cell_type": "code",
   "execution_count": 98,
   "metadata": {
    "collapsed": false,
    "deletable": true,
    "editable": true
   },
   "outputs": [
    {
     "name": "stdout",
     "output_type": "stream",
     "text": [
      "Good JJ\n",
      "night NN\n",
      "fags NNS\n",
      "and CC\n",
      "fagettes NNS\n",
      "( -LRB-\n",
      "that DT\n",
      "'s VBZ\n",
      "the DT\n",
      "female JJ\n",
      "version NN\n",
      "of IN\n",
      "fags NNS\n",
      "like IN\n",
      "fag NN\n",
      "- HYPH\n",
      "ettes NNS\n",
      "to TO\n",
      "make VB\n",
      "it PRP\n",
      "female JJ\n",
      ") -RRB-\n",
      "I PRP\n",
      "hate VBP\n",
      "you PRP\n",
      "all DT\n",
      ". .\n"
     ]
    }
   ],
   "source": [
    "hs_text = result_frame['text'].iloc[12]\n",
    "\n",
    "doc = nlp(hs_text)\n",
    "nlp.vocab.strings[doc[16].orth_]\n",
    "[ent.label_ for ent in doc.ents]\n",
    "for d in doc:\n",
    "    print(d.orth_, d.tag_)"
   ]
  },
  {
   "cell_type": "code",
   "execution_count": 99,
   "metadata": {
    "collapsed": false,
    "deletable": true,
    "editable": true
   },
   "outputs": [
    {
     "name": "stdout",
     "output_type": "stream",
     "text": [
      "Good ADJ\n",
      "night NOUN\n",
      "fags NOUN\n",
      "and CONJ\n",
      "fagettes NOUN\n",
      "( PUNCT\n",
      "that DET\n",
      "'s VERB\n",
      "the DET\n",
      "female ADJ\n",
      "version NOUN\n",
      "of ADP\n",
      "fags NOUN\n",
      "like ADP\n",
      "fag NOUN\n",
      "- PUNCT\n",
      "ettes NOUN\n",
      "to PART\n",
      "make VERB\n",
      "it PRON\n",
      "female ADJ\n",
      ") PUNCT\n",
      "I PRON\n",
      "hate VERB\n",
      "you PRON\n",
      "all DET\n",
      ". PUNCT\n"
     ]
    }
   ],
   "source": [
    "for d in doc:\n",
    "    print(d.orth_, d.pos_)"
   ]
  }
 ],
 "metadata": {
  "kernelspec": {
   "display_name": "Python 3",
   "language": "python",
   "name": "python3"
  },
  "language_info": {
   "codemirror_mode": {
    "name": "ipython",
    "version": 3
   },
   "file_extension": ".py",
   "mimetype": "text/x-python",
   "name": "python",
   "nbconvert_exporter": "python",
   "pygments_lexer": "ipython3",
   "version": "3.5.2+"
  }
 },
 "nbformat": 4,
 "nbformat_minor": 2
}
