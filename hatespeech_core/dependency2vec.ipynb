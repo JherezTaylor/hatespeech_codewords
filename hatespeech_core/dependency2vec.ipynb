{
 "cells": [
  {
   "cell_type": "markdown",
   "metadata": {},
   "source": [
    "## Word Embedding Comparisons [dependency2vec vs word2vec]\n",
    "\n",
    "This is a staging notebook for testing the models produced by the different word embedding approaches being considered, word2vec and dependency2vec"
   ]
  },
  {
   "cell_type": "code",
   "execution_count": 9,
   "metadata": {
    "collapsed": true
   },
   "outputs": [],
   "source": [
    "import pandas as pd\n",
    "import numpy as np\n",
    "import spacy\n",
    "from gensim import models, similarities\n",
    "from tqdm import tqdm\n",
    "from sklearn.manifold import TSNE\n",
    "import plotly as py\n",
    "import cufflinks as cf\n",
    "import plotly.graph_objs as go\n",
    "from modules.utils.CustomTwokenizer import CustomTwokenizer"
   ]
  },
  {
   "cell_type": "markdown",
   "metadata": {},
   "source": [
    "### Initialize requirements"
   ]
  },
  {
   "cell_type": "code",
   "execution_count": 10,
   "metadata": {},
   "outputs": [
    {
     "data": {
      "text/html": [
       "<script>requirejs.config({paths: { 'plotly': ['https://cdn.plot.ly/plotly-latest.min']},});if(!window.Plotly) {{require(['plotly'],function(plotly) {window.Plotly=plotly;});}}</script>"
      ],
      "text/vnd.plotly.v1+html": [
       "<script>requirejs.config({paths: { 'plotly': ['https://cdn.plot.ly/plotly-latest.min']},});if(!window.Plotly) {{require(['plotly'],function(plotly) {window.Plotly=plotly;});}}</script>"
      ]
     },
     "metadata": {},
     "output_type": "display_data"
    }
   ],
   "source": [
    "spacy_en_model = \"en_core_web_md\"\n",
    "spacy_glove_model = \"en_vectors_glove_md\"\n",
    "crowdflower_persistence_raw = 'data/persistence/df/crowdflower_features_raw.pkl.compressed'\n",
    "crowdflower_persistence = 'data/persistence/df/crowdflower_features.pkl.compressed'\n",
    "nlp = spacy.load(spacy_en_model, create_make_doc=CustomTwokenizer)\n",
    "py.offline.init_notebook_mode(connected=True)\n",
    "# cf.go_offline()"
   ]
  },
  {
   "cell_type": "code",
   "execution_count": 3,
   "metadata": {
    "collapsed": true
   },
   "outputs": [],
   "source": [
    "def most_similar(word, n):\n",
    "    queries = [w for w in word.vocab if not (word.is_oov or word.is_punct or word.like_num or word.is_stop or word.lower_ == \"rt\") and w.has_vector and w.lower_ != word.lower_ and w.is_lower == word.is_lower and w.prob >= -15]\n",
    "    by_similarity = sorted(queries, key=lambda w: word.similarity(w), reverse=True)\n",
    "    cosine_score = [word.similarity(w) for w in by_similarity]\n",
    "    return by_similarity[:n], cosine_score[:n]"
   ]
  },
  {
   "cell_type": "markdown",
   "metadata": {},
   "source": [
    "### Load and test dependency2vec model"
   ]
  },
  {
   "cell_type": "code",
   "execution_count": 14,
   "metadata": {
    "collapsed": true
   },
   "outputs": [],
   "source": [
    "hatespeech_dep_word = \"data/persistence/df/dim200vecs_hatespeech_dep\"\n",
    "hs_candidates_exp6_word = \"data/persistence/df/dim200vecs_hs_candidates_exp6\"\n",
    "hatespeech_dep_context = \"data/persistence/df/dim200context-vecs_hatespeech_dep\"\n",
    "hs_candidates_exp6_context = \"data/persistence/df/dim200context-vecs_hs_candidates_exp6\""
   ]
  },
  {
   "cell_type": "code",
   "execution_count": 15,
   "metadata": {
    "collapsed": true
   },
   "outputs": [],
   "source": [
    "hatespeech_model = models.KeyedVectors.load_word2vec_format(hatespeech_dep_word, binary=False)\n",
    "hs_candidates_exp6_model = models.KeyedVectors.load_word2vec_format(hs_candidates_exp6_word, binary=False)"
   ]
  },
  {
   "cell_type": "code",
   "execution_count": 37,
   "metadata": {},
   "outputs": [
    {
     "data": {
      "text/plain": [
       "[('wetbacks', 0.9985026717185974),\n",
       " ('something', 0.9980785846710205),\n",
       " ('nothing', 0.9980483055114746),\n",
       " ('chinks', 0.9975727796554565),\n",
       " ('dumb', 0.9975383281707764),\n",
       " ('stupid', 0.9971219301223755),\n",
       " ('nice', 0.9970505833625793),\n",
       " ('mouth', 0.9969522953033447),\n",
       " ('birthday', 0.9969327449798584),\n",
       " (\"they're\", 0.9969197511672974),\n",
       " ('ok', 0.9969000816345215),\n",
       " ('wallet', 0.9968050122261047),\n",
       " (\"what's\", 0.996655285358429),\n",
       " ('whites', 0.9965375661849976),\n",
       " ('gonna', 0.9962338209152222),\n",
       " ('ppl', 0.9962177276611328),\n",
       " ('cuz', 0.9960685968399048),\n",
       " ('wrong', 0.9960306882858276),\n",
       " ('also', 0.9955644607543945),\n",
       " ('beautiful', 0.9955433011054993)]"
      ]
     },
     "execution_count": 37,
     "metadata": {},
     "output_type": "execute_result"
    }
   ],
   "source": [
    "hatespeech_model.similar_by_word(\"savages\", topn=20, restrict_vocab=None)"
   ]
  },
  {
   "cell_type": "code",
   "execution_count": 51,
   "metadata": {},
   "outputs": [
    {
     "data": {
      "text/plain": [
       "0.68546251287656113"
      ]
     },
     "execution_count": 51,
     "metadata": {},
     "output_type": "execute_result"
    }
   ],
   "source": [
    "# hs_candidates_exp6_model.most_similar(positive=['nigger'], negative=['smart'], topn=15)\n",
    "hs_candidates_exp6_model.similarity('savages', 'muslim')\n",
    "# hs_candidates_exp6_model.similar_by_word(\"savage\", topn=20, restrict_vocab=None)"
   ]
  },
  {
   "cell_type": "code",
   "execution_count": 27,
   "metadata": {},
   "outputs": [
    {
     "data": {
      "text/plain": [
       "0.74220567500300816"
      ]
     },
     "execution_count": 27,
     "metadata": {},
     "output_type": "execute_result"
    }
   ],
   "source": [
    "vocab = list(hs_candidates_exp6_model.vocab.keys())\n",
    "len(vocab)\n",
    "hs_candidates_exp6_model.similarity('woman', 'man')"
   ]
  },
  {
   "cell_type": "markdown",
   "metadata": {},
   "source": [
    "### Load and test word2vec model"
   ]
  },
  {
   "cell_type": "code",
   "execution_count": 5,
   "metadata": {
    "collapsed": true
   },
   "outputs": [],
   "source": [
    "word = nlp.vocab[u'bitches']\n",
    "gloVe_result = most_similar(word, 20)\n",
    "for res in zip(gloVe_result[0], gloVe_result[1]):\n",
    "    print((res[0].lower_, res[1]))"
   ]
  },
  {
   "cell_type": "markdown",
   "metadata": {},
   "source": [
    "### Visualize model\n",
    "https://github.com/jeffThompson/Word2VecAndTsne\n",
    "\n",
    "https://www.quora.com/How-do-I-visualise-word2vec-word-vectors"
   ]
  },
  {
   "cell_type": "code",
   "execution_count": 88,
   "metadata": {},
   "outputs": [],
   "source": [
    "X = hatespeech_model[hatespeech_model.vocab]\n",
    "vocab = list(hatespeech_model.vocab.keys())\n",
    "vocab = vocab[:50]\n",
    "tsne = TSNE(n_components=2)\n",
    "X_tsne = tsne.fit_transform(X[:50,:])"
   ]
  },
  {
   "cell_type": "code",
   "execution_count": 89,
   "metadata": {},
   "outputs": [
    {
     "data": {
      "text/plain": [
       "50"
      ]
     },
     "execution_count": 89,
     "metadata": {},
     "output_type": "execute_result"
    }
   ],
   "source": [
    "len(X_tsne)"
   ]
  },
  {
   "cell_type": "code",
   "execution_count": 90,
   "metadata": {},
   "outputs": [
    {
     "data": {
      "application/vnd.plotly.v1+json": {
       "data": [
        {
         "marker": {
          "color": "rgba(217, 217, 217, 0.14)",
          "line": {
           "width": 0.5
          },
          "opacity": 0.3,
          "size": 14
         },
         "mode": "markers+text",
         "text": [
          "long",
          "dad",
          "chink",
          "the",
          "gonna",
          "love",
          "use",
          "they're",
          "can't",
          "feel",
          "back",
          "lot",
          "years",
          "every",
          "guy",
          "know",
          "out",
          "been",
          "we",
          "never",
          "always",
          "hell",
          "heads",
          "hard",
          "doing",
          "asked",
          "_ì«ìðû¡",
          "mom",
          "it",
          "_ã¢û_ì_",
          "will",
          "going",
          "shut",
          "dude",
          "religion",
          "full",
          "-",
          "fuckin",
          "came",
          "life",
          "(",
          "there",
          "with",
          "...",
          "would",
          "down",
          "ya",
          "give",
          "its",
          "was"
         ],
         "type": "scatter",
         "x": [
          28.990717695177718,
          -40.039447482446896,
          -57.937201526308634,
          -138.690567086605,
          -16.658451206451897,
          78.42246291763274,
          -32.844724191435496,
          4.196292665048406,
          84.0535719908761,
          41.22061493990272,
          -93.1603268118638,
          53.013570757033825,
          -97.01279960731009,
          -22.066153492039476,
          150.23543151656878,
          2.2494923589298725,
          -107.6294216409398,
          81.59003515309688,
          82.4122118530555,
          145.8153307520261,
          0.84568251155839,
          -76.20291367131938,
          94.73317525952734,
          17.149853684748354,
          -132.97853878166367,
          -7.619932357308716,
          -5.152128918065914,
          -70.83146918018102,
          -103.99476169172307,
          23.160181145140434,
          50.71978660726712,
          -33.892567574302646,
          -161.53193464458815,
          -69.9589609097728,
          -37.56619085503032,
          56.34385177600949,
          117.31998159448625,
          -7.147528570727155,
          31.940687790072765,
          -206.8836617422917,
          25.468293085790656,
          -48.08650680905486,
          82.82248459068799,
          72.84145005641336,
          36.75907877160204,
          111.8560735572839,
          114.11436445704366,
          51.16026988450237,
          -50.49851360637783,
          -36.6368804202191
         ],
         "y": [
          -22.55034861052271,
          107.49265826295002,
          40.7038751251186,
          -194.35393706458763,
          -42.05536035506585,
          -34.97805536280537,
          -11.352736256068969,
          34.23515798982642,
          -66.3066033937779,
          -82.58398134586734,
          50.193623480201616,
          -6.090252768093608,
          -73.99902770634021,
          49.52541377719974,
          -121.24814025326872,
          -77.06070470501399,
          -36.45737191281299,
          -2.403286603153263,
          -115.12946451619656,
          179.1936642340777,
          -20.96559101639953,
          -20.933560418949114,
          114.90044127650526,
          -48.41434502321405,
          -0.9247698644188986,
          77.147485428518,
          -109.2075150707886,
          9.852922767455164,
          11.917098191168668,
          7.778316717291299,
          63.29395477099316,
          -66.61536062608027,
          61.126891073296754,
          -62.103207796742396,
          -97.37243298747535,
          110.62615477954341,
          7.750702677592905,
          6.227738055034996,
          -111.989536653603,
          171.11051543416622,
          83.6076806708489,
          -35.02618780930402,
          66.66646856531838,
          33.852520110715595,
          39.52481665100024,
          40.39426846098185,
          -32.38563783171699,
          -55.76147033121335,
          72.5389598657893,
          18.115102333421756
         ]
        }
       ],
       "layout": {
        "title": "Annotated hate speech dep2vec"
       }
      },
      "text/html": [
       "<div id=\"4e40d59e-1238-4395-9b10-0c9c275943ae\" style=\"height: 525px; width: 100%;\" class=\"plotly-graph-div\"></div><script type=\"text/javascript\">require([\"plotly\"], function(Plotly) { window.PLOTLYENV=window.PLOTLYENV || {};window.PLOTLYENV.BASE_URL=\"https://plot.ly\";Plotly.newPlot(\"4e40d59e-1238-4395-9b10-0c9c275943ae\", [{\"marker\": {\"opacity\": 0.3, \"line\": {\"width\": 0.5}, \"color\": \"rgba(217, 217, 217, 0.14)\", \"size\": 14}, \"y\": [-22.55034861052271, 107.49265826295002, 40.7038751251186, -194.35393706458763, -42.05536035506585, -34.97805536280537, -11.352736256068969, 34.23515798982642, -66.3066033937779, -82.58398134586734, 50.193623480201616, -6.090252768093608, -73.99902770634021, 49.52541377719974, -121.24814025326872, -77.06070470501399, -36.45737191281299, -2.403286603153263, -115.12946451619656, 179.1936642340777, -20.96559101639953, -20.933560418949114, 114.90044127650526, -48.41434502321405, -0.9247698644188986, 77.147485428518, -109.2075150707886, 9.852922767455164, 11.917098191168668, 7.778316717291299, 63.29395477099316, -66.61536062608027, 61.126891073296754, -62.103207796742396, -97.37243298747535, 110.62615477954341, 7.750702677592905, 6.227738055034996, -111.989536653603, 171.11051543416622, 83.6076806708489, -35.02618780930402, 66.66646856531838, 33.852520110715595, 39.52481665100024, 40.39426846098185, -32.38563783171699, -55.76147033121335, 72.5389598657893, 18.115102333421756], \"text\": [\"long\", \"dad\", \"chink\", \"the\", \"gonna\", \"love\", \"use\", \"they're\", \"can't\", \"feel\", \"back\", \"lot\", \"years\", \"every\", \"guy\", \"know\", \"out\", \"been\", \"we\", \"never\", \"always\", \"hell\", \"heads\", \"hard\", \"doing\", \"asked\", \"_\\u00ec\\u00ab\\u00ec\\u00f0\\u0089\\u00fb\\u00a1\", \"mom\", \"it\", \"_\\u0089\\u00e3\\u00a2\\u0089\\u00fb_\\u00ec_\", \"will\", \"going\", \"shut\", \"dude\", \"religion\", \"full\", \"-\", \"fuckin\", \"came\", \"life\", \"(\", \"there\", \"with\", \"...\", \"would\", \"down\", \"ya\", \"give\", \"its\", \"was\"], \"type\": \"scatter\", \"x\": [28.990717695177718, -40.039447482446896, -57.937201526308634, -138.690567086605, -16.658451206451897, 78.42246291763274, -32.844724191435496, 4.196292665048406, 84.0535719908761, 41.22061493990272, -93.1603268118638, 53.013570757033825, -97.01279960731009, -22.066153492039476, 150.23543151656878, 2.2494923589298725, -107.6294216409398, 81.59003515309688, 82.4122118530555, 145.8153307520261, 0.84568251155839, -76.20291367131938, 94.73317525952734, 17.149853684748354, -132.97853878166367, -7.619932357308716, -5.152128918065914, -70.83146918018102, -103.99476169172307, 23.160181145140434, 50.71978660726712, -33.892567574302646, -161.53193464458815, -69.9589609097728, -37.56619085503032, 56.34385177600949, 117.31998159448625, -7.147528570727155, 31.940687790072765, -206.8836617422917, 25.468293085790656, -48.08650680905486, 82.82248459068799, 72.84145005641336, 36.75907877160204, 111.8560735572839, 114.11436445704366, 51.16026988450237, -50.49851360637783, -36.6368804202191], \"mode\": \"markers+text\"}], {\"title\": \"Annotated hate speech dep2vec\"}, {\"linkText\": \"Export to plot.ly\", \"showLink\": true})});</script>"
      ],
      "text/vnd.plotly.v1+html": [
       "<div id=\"4e40d59e-1238-4395-9b10-0c9c275943ae\" style=\"height: 525px; width: 100%;\" class=\"plotly-graph-div\"></div><script type=\"text/javascript\">require([\"plotly\"], function(Plotly) { window.PLOTLYENV=window.PLOTLYENV || {};window.PLOTLYENV.BASE_URL=\"https://plot.ly\";Plotly.newPlot(\"4e40d59e-1238-4395-9b10-0c9c275943ae\", [{\"marker\": {\"opacity\": 0.3, \"line\": {\"width\": 0.5}, \"color\": \"rgba(217, 217, 217, 0.14)\", \"size\": 14}, \"y\": [-22.55034861052271, 107.49265826295002, 40.7038751251186, -194.35393706458763, -42.05536035506585, -34.97805536280537, -11.352736256068969, 34.23515798982642, -66.3066033937779, -82.58398134586734, 50.193623480201616, -6.090252768093608, -73.99902770634021, 49.52541377719974, -121.24814025326872, -77.06070470501399, -36.45737191281299, -2.403286603153263, -115.12946451619656, 179.1936642340777, -20.96559101639953, -20.933560418949114, 114.90044127650526, -48.41434502321405, -0.9247698644188986, 77.147485428518, -109.2075150707886, 9.852922767455164, 11.917098191168668, 7.778316717291299, 63.29395477099316, -66.61536062608027, 61.126891073296754, -62.103207796742396, -97.37243298747535, 110.62615477954341, 7.750702677592905, 6.227738055034996, -111.989536653603, 171.11051543416622, 83.6076806708489, -35.02618780930402, 66.66646856531838, 33.852520110715595, 39.52481665100024, 40.39426846098185, -32.38563783171699, -55.76147033121335, 72.5389598657893, 18.115102333421756], \"text\": [\"long\", \"dad\", \"chink\", \"the\", \"gonna\", \"love\", \"use\", \"they're\", \"can't\", \"feel\", \"back\", \"lot\", \"years\", \"every\", \"guy\", \"know\", \"out\", \"been\", \"we\", \"never\", \"always\", \"hell\", \"heads\", \"hard\", \"doing\", \"asked\", \"_\\u00ec\\u00ab\\u00ec\\u00f0\\u0089\\u00fb\\u00a1\", \"mom\", \"it\", \"_\\u0089\\u00e3\\u00a2\\u0089\\u00fb_\\u00ec_\", \"will\", \"going\", \"shut\", \"dude\", \"religion\", \"full\", \"-\", \"fuckin\", \"came\", \"life\", \"(\", \"there\", \"with\", \"...\", \"would\", \"down\", \"ya\", \"give\", \"its\", \"was\"], \"type\": \"scatter\", \"x\": [28.990717695177718, -40.039447482446896, -57.937201526308634, -138.690567086605, -16.658451206451897, 78.42246291763274, -32.844724191435496, 4.196292665048406, 84.0535719908761, 41.22061493990272, -93.1603268118638, 53.013570757033825, -97.01279960731009, -22.066153492039476, 150.23543151656878, 2.2494923589298725, -107.6294216409398, 81.59003515309688, 82.4122118530555, 145.8153307520261, 0.84568251155839, -76.20291367131938, 94.73317525952734, 17.149853684748354, -132.97853878166367, -7.619932357308716, -5.152128918065914, -70.83146918018102, -103.99476169172307, 23.160181145140434, 50.71978660726712, -33.892567574302646, -161.53193464458815, -69.9589609097728, -37.56619085503032, 56.34385177600949, 117.31998159448625, -7.147528570727155, 31.940687790072765, -206.8836617422917, 25.468293085790656, -48.08650680905486, 82.82248459068799, 72.84145005641336, 36.75907877160204, 111.8560735572839, 114.11436445704366, 51.16026988450237, -50.49851360637783, -36.6368804202191], \"mode\": \"markers+text\"}], {\"title\": \"Annotated hate speech dep2vec\"}, {\"linkText\": \"Export to plot.ly\", \"showLink\": true})});</script>"
      ]
     },
     "metadata": {},
     "output_type": "display_data"
    }
   ],
   "source": [
    "# http://nlp.yvespeirsman.be/blog/visualizing-word-embeddings-with-tsne/ evaluation\n",
    "trace = go.Scatter(\n",
    "    x = X_tsne[:, 0],\n",
    "    y = X_tsne[:, 1],\n",
    "    mode = 'markers+text',\n",
    "    text = vocab,\n",
    "    marker= dict(size= 14,\n",
    "                line= dict(width=0.5),\n",
    "                opacity= 0.3,\n",
    "                color = 'rgba(217, 217, 217, 0.14)'\n",
    "            )\n",
    ")\n",
    "data = [trace]\n",
    "py.offline.iplot({\n",
    "    \"data\": data,\n",
    "    \"layout\": go.Layout(title=\"Annotated hate speech dep2vec\")\n",
    "})"
   ]
  }
 ],
 "metadata": {
  "kernelspec": {
   "display_name": "Python 3",
   "language": "python",
   "name": "python3"
  },
  "language_info": {
   "codemirror_mode": {
    "name": "ipython",
    "version": 3
   },
   "file_extension": ".py",
   "mimetype": "text/x-python",
   "name": "python",
   "nbconvert_exporter": "python",
   "pygments_lexer": "ipython3",
   "version": "3.5.3"
  }
 },
 "nbformat": 4,
 "nbformat_minor": 2
}
